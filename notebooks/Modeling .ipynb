{
 "cells": [
  {
   "cell_type": "code",
   "execution_count": 1,
   "metadata": {},
   "outputs": [],
   "source": [
    "import sys\n",
    "sys.path.append(\"..\")\n",
    "\n",
    "from src.features.preprocessing_pipeline import preprocess_data, isolationforest_detect"
   ]
  },
  {
   "cell_type": "code",
   "execution_count": 3,
   "metadata": {},
   "outputs": [
    {
     "name": "stderr",
     "output_type": "stream",
     "text": [
      "/anaconda3/lib/python3.7/site-packages/sklearn/ensemble/iforest.py:223: FutureWarning: behaviour=\"old\" is deprecated and will be removed in version 0.22. Please use behaviour=\"new\", which makes the decision_function change to match other anomaly detection algorithm API.\n",
      "  FutureWarning)\n",
      "/anaconda3/lib/python3.7/site-packages/sklearn/ensemble/iforest.py:417: DeprecationWarning: threshold_ attribute is deprecated in 0.20 and will be removed in 0.22.\n",
      "  \" be removed in 0.22.\", DeprecationWarning)\n"
     ]
    },
    {
     "name": "stdout",
     "output_type": "stream",
     "text": [
      " 1    75364\n",
      "-1     3966\n",
      "Name: combined_outliers, dtype: int64\n"
     ]
    }
   ],
   "source": [
    "import pandas as pd\n",
    "# Importing dataset\n",
    "df = pd.read_csv(\"../src/data/hotel_bookings.csv\")\n",
    "# Reading data only for 'City' hotel\n",
    "city_df = df[df['hotel'] == 'City Hotel'].reset_index(drop=True).drop('hotel',axis=1)\n",
    "# Removing 'reservation_status' column to avoid 'cheating'\n",
    "city_df.drop('reservation_status', axis=1, inplace=True)\n",
    "# Setting up X and y\n",
    "y = city_df.iloc[:,0]\n",
    "X = city_df.iloc[:,1:]\n",
    "\n",
    "\n",
    "isolationforest_detect(X,['adr','days_in_waiting_list'],0.05,'combined_outliers')\n",
    "X.drop('combined_outliers', inplace=True, axis=1)\n",
    "\n",
    "test = preprocess_data(X)"
   ]
  },
  {
   "cell_type": "markdown",
   "metadata": {},
   "source": [
    "Accuracy = (TP + TN) /(TP + TN + FP + FN)\n",
    "Precision = (TP) / (TP + FP)\n",
    "Recall = (TP) / (TP + FN)\n",
    "F1 Score = (2 x Precision x Recall) / (Precision + Recall)"
   ]
  },
  {
   "cell_type": "code",
   "execution_count": null,
   "metadata": {},
   "outputs": [],
   "source": []
  }
 ],
 "metadata": {
  "kernelspec": {
   "display_name": "Python 3",
   "language": "python",
   "name": "python3"
  },
  "language_info": {
   "codemirror_mode": {
    "name": "ipython",
    "version": 3
   },
   "file_extension": ".py",
   "mimetype": "text/x-python",
   "name": "python",
   "nbconvert_exporter": "python",
   "pygments_lexer": "ipython3",
   "version": "3.7.3"
  }
 },
 "nbformat": 4,
 "nbformat_minor": 2
}
