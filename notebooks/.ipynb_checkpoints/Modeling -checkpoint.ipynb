{
 "cells": [
  {
   "cell_type": "code",
   "execution_count": 5,
   "metadata": {},
   "outputs": [],
   "source": [
    "import sys\n",
    "sys.path.append(\"..\")\n",
    "\n",
    "from src.features.preprocessing_pipeline import preprocess_data"
   ]
  },
  {
   "cell_type": "code",
   "execution_count": 6,
   "metadata": {},
   "outputs": [],
   "source": [
    "import pandas as pd\n",
    "# Importing dataset\n",
    "df = pd.read_csv(\"../src/data/hotel_bookings.csv\")\n",
    "# Reading data only for 'City' hotel\n",
    "city_df = df[df['hotel'] == 'City Hotel'].reset_index(drop=True).drop('hotel',axis=1)\n",
    "# Removing 'reservation_status' column to avoid 'cheating'\n",
    "city_df.drop('reservation_status', axis=1, inplace=True)\n",
    "# Setting up X and y\n",
    "y = city_df.iloc[:,0]\n",
    "X = city_df.iloc[:,1:]\n",
    "test = preprocess_data(X)"
   ]
  }
 ],
 "metadata": {
  "kernelspec": {
   "display_name": "Python 3",
   "language": "python",
   "name": "python3"
  },
  "language_info": {
   "codemirror_mode": {
    "name": "ipython",
    "version": 3
   },
   "file_extension": ".py",
   "mimetype": "text/x-python",
   "name": "python",
   "nbconvert_exporter": "python",
   "pygments_lexer": "ipython3",
   "version": "3.7.3"
  }
 },
 "nbformat": 4,
 "nbformat_minor": 2
}
