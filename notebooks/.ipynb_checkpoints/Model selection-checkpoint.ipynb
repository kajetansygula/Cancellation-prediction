{
 "cells": [
  {
   "cell_type": "code",
   "execution_count": 1,
   "metadata": {},
   "outputs": [],
   "source": [
    "import sys\n",
    "sys.path.append(\"..\")\n",
    "\n",
    "import pandas as pd\n",
    "\n",
    "from sklearn.linear_model import LogisticRegression\n",
    "from sklearn.neighbors import KNeighborsClassifier\n",
    "from sklearn.svm import SVC, LinearSVC, NuSVC\n",
    "from sklearn.tree import DecisionTreeClassifier\n",
    "from sklearn.ensemble import RandomForestClassifier, AdaBoostClassifier, GradientBoostingClassifier\n",
    "from sklearn.naive_bayes import GaussianNB\n",
    "\n",
    "from xgboost import XGBClassifier\n",
    "\n",
    "from src.features.preprocessing import preprocess_data, isolationforest_detect\n",
    "from src.models.train_model import evaluate_model\n",
    "\n",
    "from sklearn.model_selection import train_test_split, KFold, cross_val_score\n",
    "from sklearn.metrics import accuracy_score, confusion_matrix, classification_report\n",
    "\n",
    "import warnings\n",
    "warnings.filterwarnings('ignore')"
   ]
  },
  {
   "cell_type": "code",
   "execution_count": 2,
   "metadata": {},
   "outputs": [
    {
     "name": "stdout",
     "output_type": "stream",
     "text": [
      " 1    75364\n",
      "-1     3966\n",
      "Name: combined_outliers, dtype: int64\n"
     ]
    }
   ],
   "source": [
    "# Importing dataset\n",
    "df = pd.read_csv(\"../data/city_dataframe.csv\")\n",
    "\n",
    "# Removing outliers\n",
    "isolationforest_detect(df,['adr','days_in_waiting_list','total_booked_nights'],0.05,'combined_outliers')\n",
    "df = df[(df['combined_outliers'] != -1)]\n",
    "df.drop('combined_outliers', inplace=True, axis=1)\n",
    "\n",
    "y = df.iloc[:,0]\n",
    "X = df.iloc[:,1:]\n",
    "\n",
    "# Selecting features choosen in Feature Engineering.ipynb\n",
    "selected_features = ['lead_time',\n",
    "                    'country',\n",
    "                    'adr',\n",
    "                    'deposit_type',\n",
    "                    'total_of_special_requests',\n",
    "                    'market_segment',\n",
    "                    'customer_type',\n",
    "                    'total_booked_nights',\n",
    "                    'distribution_channel',\n",
    "                    'previous_cancellations']\n",
    "\n",
    "X = X[selected_features]\n",
    "\n",
    "# Running general preprocessing pipeline\n",
    "X = preprocess_data(X)\n",
    "\n",
    "# Initiation of score list\n",
    "scores = []"
   ]
  },
  {
   "cell_type": "markdown",
   "metadata": {},
   "source": [
    "#### Algorithms to be compared:\n",
    "1. Logistic Regression\n",
    "2. k-Nearest Neighbor\n",
    "3. Decision tree\n",
    "4. Random Forest\n",
    "5. Naive Bayes\n",
    "6. LinearSVC\n",
    "7. AdaBoostClassifier\n",
    "8. XGBoost\n",
    "\n",
    "Algorithms with the best accuracy score will be tuned."
   ]
  },
  {
   "cell_type": "code",
   "execution_count": null,
   "metadata": {},
   "outputs": [],
   "source": [
    "scores.append(('Logistic Regression', evaluate_model(X, y, LogisticRegression(), kfolds=10)))"
   ]
  },
  {
   "cell_type": "code",
   "execution_count": null,
   "metadata": {},
   "outputs": [],
   "source": [
    "scores.append(('Logistic Regression', evaluate_model(X, y, KNeighborsClassifier(), kfolds=10)))"
   ]
  },
  {
   "cell_type": "code",
   "execution_count": null,
   "metadata": {},
   "outputs": [],
   "source": [
    "scores.append(('Decision Tree', evaluate_model(X, y, DecisionTreeClassifier(max_depth=12), kfolds=10)))"
   ]
  },
  {
   "cell_type": "code",
   "execution_count": null,
   "metadata": {},
   "outputs": [],
   "source": [
    "scores.append(('Random Forest', evaluate_model(X, y, RandomForestClassifier(), kfolds=10)))"
   ]
  },
  {
   "cell_type": "code",
   "execution_count": null,
   "metadata": {},
   "outputs": [],
   "source": [
    "scores.append(('Gaussian Naive Bayes', evaluate_model(X, y, GaussianNB(), kfolds=10)))"
   ]
  },
  {
   "cell_type": "code",
   "execution_count": null,
   "metadata": {},
   "outputs": [],
   "source": [
    "scores.append(('LinearSVC', evaluate_model(X, y, LinearSVC(), kfolds=10, roc=False)))"
   ]
  },
  {
   "cell_type": "code",
   "execution_count": null,
   "metadata": {},
   "outputs": [],
   "source": [
    "scores.append(('AdaBoostClassifier', evaluate_model(X, y, AdaBoostClassifier(), kfolds=10)))"
   ]
  },
  {
   "cell_type": "code",
   "execution_count": null,
   "metadata": {},
   "outputs": [],
   "source": [
    "scores.append(('XGBoost', evaluate_model(X, y, XGBClassifier(), kfolds=10)))"
   ]
  },
  {
   "cell_type": "code",
   "execution_count": null,
   "metadata": {},
   "outputs": [],
   "source": [
    "scores_df = pd.DataFrame(scores, columns =['Model', 'Score']).sort_values('Score', ascending=False).set_index('Model')\n",
    "scores_df"
   ]
  }
 ],
 "metadata": {
  "kernelspec": {
   "display_name": "Python 3",
   "language": "python",
   "name": "python3"
  },
  "language_info": {
   "codemirror_mode": {
    "name": "ipython",
    "version": 3
   },
   "file_extension": ".py",
   "mimetype": "text/x-python",
   "name": "python",
   "nbconvert_exporter": "python",
   "pygments_lexer": "ipython3",
   "version": "3.7.3"
  }
 },
 "nbformat": 4,
 "nbformat_minor": 2
}
