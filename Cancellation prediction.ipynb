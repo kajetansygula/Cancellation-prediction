{
 "cells": [
  {
   "cell_type": "markdown",
   "metadata": {},
   "source": [
    "# Welcome to Cancellation Predictor\n",
    "---\n",
    "\n",
    "The dataframe will be divided based on hotel type. My plan is to train model based on City hotel, than check how well will the model work for the other type.\n",
    "\n",
    "## EDA Checklist:\n",
    "\n",
    "* Arrivals per day (for each year)\n",
    "* Average lead_time per year\n",
    "* Number of guests per month\n",
    "* % of reservation per channel\n",
    "* Cancellations % per month \n",
    "* Cancellations % per year\n",
    "* Impact of repeated guest on cancellation ratio\n",
    "* Channel impact on cancellations\n",
    "* Company impact on cancellations\n",
    "* Correlation analysis\n",
    "\n",
    "\n"
   ]
  },
  {
   "cell_type": "code",
   "execution_count": 8,
   "metadata": {},
   "outputs": [],
   "source": [
    "import pandas as pd\n",
    "import matplotlib.pyplot as plt\n",
    "import seaborn as sns\n",
    "%matplotlib inline \n",
    "\n",
    "df = pd.read_csv(\"hotel_bookings.csv\")"
   ]
  },
  {
   "cell_type": "code",
   "execution_count": 4,
   "metadata": {},
   "outputs": [
    {
     "name": "stdout",
     "output_type": "stream",
     "text": [
      "<class 'pandas.core.frame.DataFrame'>\n",
      "RangeIndex: 119390 entries, 0 to 119389\n",
      "Data columns (total 32 columns):\n",
      "hotel                             119390 non-null object\n",
      "is_canceled                       119390 non-null int64\n",
      "lead_time                         119390 non-null int64\n",
      "arrival_date_year                 119390 non-null int64\n",
      "arrival_date_month                119390 non-null object\n",
      "arrival_date_week_number          119390 non-null int64\n",
      "arrival_date_day_of_month         119390 non-null int64\n",
      "stays_in_weekend_nights           119390 non-null int64\n",
      "stays_in_week_nights              119390 non-null int64\n",
      "adults                            119390 non-null int64\n",
      "children                          119386 non-null float64\n",
      "babies                            119390 non-null int64\n",
      "meal                              119390 non-null object\n",
      "country                           118902 non-null object\n",
      "market_segment                    119390 non-null object\n",
      "distribution_channel              119390 non-null object\n",
      "is_repeated_guest                 119390 non-null int64\n",
      "previous_cancellations            119390 non-null int64\n",
      "previous_bookings_not_canceled    119390 non-null int64\n",
      "reserved_room_type                119390 non-null object\n",
      "assigned_room_type                119390 non-null object\n",
      "booking_changes                   119390 non-null int64\n",
      "deposit_type                      119390 non-null object\n",
      "agent                             103050 non-null float64\n",
      "company                           6797 non-null float64\n",
      "days_in_waiting_list              119390 non-null int64\n",
      "customer_type                     119390 non-null object\n",
      "adr                               119390 non-null float64\n",
      "required_car_parking_spaces       119390 non-null int64\n",
      "total_of_special_requests         119390 non-null int64\n",
      "reservation_status                119390 non-null object\n",
      "reservation_status_date           119390 non-null object\n",
      "dtypes: float64(4), int64(16), object(12)\n",
      "memory usage: 29.1+ MB\n"
     ]
    }
   ],
   "source": [
    "df.info()"
   ]
  },
  {
   "cell_type": "code",
   "execution_count": 5,
   "metadata": {},
   "outputs": [
    {
     "name": "stdout",
     "output_type": "stream",
     "text": [
      "Dataframe contain 119390 rows and 32 columns.\n"
     ]
    }
   ],
   "source": [
    "print(\"Dataframe contain \" + str(df.shape[0]) + \" rows and \" + str(df.shape[1]) + \" columns.\")"
   ]
  },
  {
   "cell_type": "code",
   "execution_count": 9,
   "metadata": {},
   "outputs": [
    {
     "data": {
      "text/plain": [
       "array(['Resort Hotel', 'City Hotel'], dtype=object)"
      ]
     },
     "execution_count": 9,
     "metadata": {},
     "output_type": "execute_result"
    }
   ],
   "source": [
    "df.hotel.unique()"
   ]
  },
  {
   "cell_type": "markdown",
   "metadata": {},
   "source": [
    "### Define crucial variables:\n",
    "- dataframe for model enegeriing \n",
    "- total number of reservations\n",
    "- total number of cancellations"
   ]
  },
  {
   "cell_type": "code",
   "execution_count": 20,
   "metadata": {},
   "outputs": [
    {
     "data": {
      "text/plain": [
       "41.72696331778646"
      ]
     },
     "execution_count": 20,
     "metadata": {},
     "output_type": "execute_result"
    }
   ],
   "source": [
    "#Dataframe of City Hotel's data\n",
    "city_df = df[df['hotel'] == 'City Hotel'].reset_index(drop=True)\n",
    "#Total number of reservation (cancellation + successuful)\n",
    "total_reservation = city_df.shape[0]\n",
    "#Total number of cancelled bookings\n",
    "total_cancelled = city_df[city_df['is_canceled'] == 1].shape[0]\n",
    "#Adding total guests (adults + children (without babies)) to the dataframe\n",
    "\n",
    "total_cancelled/total_reservation*100"
   ]
  },
  {
   "cell_type": "code",
   "execution_count": 22,
   "metadata": {},
   "outputs": [
    {
     "data": {
      "text/plain": [
       "arrival_date_month  arrival_date_year\n",
       "April               2016                 6671\n",
       "                    2017                 7619\n",
       "August              2015                 4697\n",
       "                    2016                 6904\n",
       "                    2017                 6240\n",
       "December            2015                 2907\n",
       "                    2016                 4702\n",
       "February            2016                 4124\n",
       "                    2017                 4722\n",
       "January             2016                 2200\n",
       "                    2017                 4178\n",
       "July                2015                 2671\n",
       "                    2016                 6231\n",
       "                    2017                 7073\n",
       "June                2016                 7012\n",
       "                    2017                 7507\n",
       "March               2016                 5599\n",
       "                    2017                 6259\n",
       "May                 2016                 6671\n",
       "                    2017                 8287\n",
       "November            2015                 1918\n",
       "                    2016                 5412\n",
       "October             2015                 5910\n",
       "                    2016                 7755\n",
       "September           2015                 6282\n",
       "                    2016                 7287\n",
       "Name: adults, dtype: int64"
      ]
     },
     "execution_count": 22,
     "metadata": {},
     "output_type": "execute_result"
    }
   ],
   "source": [
    "city_df.groupby(['arrival_date_month','arrival_date_year'])['adults'].sum()"
   ]
  },
  {
   "cell_type": "code",
   "execution_count": null,
   "metadata": {},
   "outputs": [],
   "source": []
  },
  {
   "cell_type": "code",
   "execution_count": null,
   "metadata": {},
   "outputs": [],
   "source": []
  },
  {
   "cell_type": "code",
   "execution_count": null,
   "metadata": {},
   "outputs": [],
   "source": []
  },
  {
   "cell_type": "code",
   "execution_count": null,
   "metadata": {},
   "outputs": [],
   "source": []
  },
  {
   "cell_type": "code",
   "execution_count": null,
   "metadata": {},
   "outputs": [],
   "source": []
  }
 ],
 "metadata": {
  "kernelspec": {
   "display_name": "Python 3",
   "language": "python",
   "name": "python3"
  },
  "language_info": {
   "codemirror_mode": {
    "name": "ipython",
    "version": 3
   },
   "file_extension": ".py",
   "mimetype": "text/x-python",
   "name": "python",
   "nbconvert_exporter": "python",
   "pygments_lexer": "ipython3",
   "version": "3.7.3"
  }
 },
 "nbformat": 4,
 "nbformat_minor": 2
}
